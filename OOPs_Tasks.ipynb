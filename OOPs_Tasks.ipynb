{
  "nbformat": 4,
  "nbformat_minor": 0,
  "metadata": {
    "colab": {
      "provenance": []
    },
    "kernelspec": {
      "name": "python3",
      "display_name": "Python 3"
    },
    "language_info": {
      "name": "python"
    }
  },
  "cells": [
    {
      "cell_type": "markdown",
      "source": [
        "Q1, Create a vehicle class with an init method having instance variables as name_of_vehicle, max_speed\n",
        "and average_of_vehicle."
      ],
      "metadata": {
        "id": "mQlMGXBxBBF_"
      }
    },
    {
      "cell_type": "code",
      "source": [
        "class vehicle:\n",
        "\n",
        "  def __init__(self, name_of_vehicle, max_speed, average_of_vehicle):\n",
        "    self.name_of_vehicle = name_of_vehicle\n",
        "    self.max_speed = max_speed\n",
        "    self.average_of_vehicle = average_of_vehicle\n",
        "\n",
        "  def return_name_of_vehicle(self):  # funtion for name of the car\n",
        "    return self.name_of_vehicle\n",
        "\n",
        "  def return_max_speed(self):   # Funtion for max speed of the car\n",
        "    return self.max_speed\n",
        "\n",
        "  def return_average_of_vehicle(self):   #function for average speed of the car\n",
        "    return self.average_of_vehicle\n"
      ],
      "metadata": {
        "id": "1y3HYBbuBC84"
      },
      "execution_count": null,
      "outputs": []
    },
    {
      "cell_type": "code",
      "source": [
        "my_car = vehicle(\"Range Rover velar\",240,15.2)"
      ],
      "metadata": {
        "id": "5vg-RtzMD1C4"
      },
      "execution_count": null,
      "outputs": []
    },
    {
      "cell_type": "code",
      "source": [
        "my_car.return_name_of_vehicle()"
      ],
      "metadata": {
        "colab": {
          "base_uri": "https://localhost:8080/",
          "height": 36
        },
        "id": "vYrUWc2dES3o",
        "outputId": "a2c8112a-f280-4041-e101-7d43977bb845"
      },
      "execution_count": null,
      "outputs": [
        {
          "output_type": "execute_result",
          "data": {
            "text/plain": [
              "'Range Rover velar'"
            ],
            "application/vnd.google.colaboratory.intrinsic+json": {
              "type": "string"
            }
          },
          "metadata": {},
          "execution_count": 9
        }
      ]
    },
    {
      "cell_type": "code",
      "source": [
        "my_car.return_max_speed()"
      ],
      "metadata": {
        "colab": {
          "base_uri": "https://localhost:8080/"
        },
        "id": "uujkTdzXEcDA",
        "outputId": "f09bef19-0c93-4593-b96d-7c9aaa90f37d"
      },
      "execution_count": null,
      "outputs": [
        {
          "output_type": "execute_result",
          "data": {
            "text/plain": [
              "240"
            ]
          },
          "metadata": {},
          "execution_count": 10
        }
      ]
    },
    {
      "cell_type": "code",
      "source": [
        "my_car.return_average_of_vehicle()\n"
      ],
      "metadata": {
        "colab": {
          "base_uri": "https://localhost:8080/"
        },
        "id": "g9qSm6zGEe-Q",
        "outputId": "6c18283e-6f1a-47c5-883e-c430d8be1c65"
      },
      "execution_count": null,
      "outputs": [
        {
          "output_type": "execute_result",
          "data": {
            "text/plain": [
              "15.2"
            ]
          },
          "metadata": {},
          "execution_count": 11
        }
      ]
    },
    {
      "cell_type": "markdown",
      "source": [
        "Q2.Create a child class car from the vehicle class created in Que 1, which will inherit the vehicle class.\n",
        "Create a method named seating_capacity which takes capacity as an argument and returns the name of\n",
        "the vehicle and its seating capacity."
      ],
      "metadata": {
        "id": "cTOQ-CNWFt1-"
      }
    },
    {
      "cell_type": "code",
      "source": [
        "class car(vehicle):\n",
        "  def seating_capacity(self, capacity):\n",
        "    return self.name_of_vehicle, capacity"
      ],
      "metadata": {
        "id": "t0jPVMKwEjJk"
      },
      "execution_count": null,
      "outputs": []
    },
    {
      "cell_type": "code",
      "source": [
        "test = car( \"Range Rover velar\",240,15.2)"
      ],
      "metadata": {
        "id": "vTmeGeImGB5d"
      },
      "execution_count": null,
      "outputs": []
    },
    {
      "cell_type": "code",
      "source": [
        "test.seating_capacity(4)"
      ],
      "metadata": {
        "colab": {
          "base_uri": "https://localhost:8080/"
        },
        "id": "J-kuBOMwGJGs",
        "outputId": "3769dc25-ecb8-4888-c224-8d93f85b921f"
      },
      "execution_count": null,
      "outputs": [
        {
          "output_type": "execute_result",
          "data": {
            "text/plain": [
              "('Range Rover velar', 4)"
            ]
          },
          "metadata": {},
          "execution_count": 16
        }
      ]
    },
    {
      "cell_type": "markdown",
      "source": [
        "Q3. What is multiple inheritance? Write a python code to demonstrate multiple inheritance."
      ],
      "metadata": {
        "id": "Y-V0RRUaHCWs"
      }
    },
    {
      "cell_type": "markdown",
      "source": [
        "**Multiple Inheritance**\n",
        "\n",
        "Multiple inheritance means there was one child class and more then one parent class.\n"
      ],
      "metadata": {
        "id": "ldNJ9VaTHJdf"
      }
    },
    {
      "cell_type": "code",
      "source": [
        "class parent_1:\n",
        "\n",
        "  def return_parent_class_1(self):\n",
        "    return \"This is parent class 1\"\n",
        "\n",
        "\n"
      ],
      "metadata": {
        "id": "c3dFDf6AGb0F"
      },
      "execution_count": null,
      "outputs": []
    },
    {
      "cell_type": "code",
      "source": [
        "class parent_2:\n",
        "\n",
        "  def return_parent_class_2(self):\n",
        "    return \"This is parent class 2\""
      ],
      "metadata": {
        "id": "QDRM1PcGKTPI"
      },
      "execution_count": null,
      "outputs": []
    },
    {
      "cell_type": "code",
      "source": [
        "class child_class(parent_1, parent_2):\n",
        "  pass\n",
        "\n",
        "\n",
        "\n"
      ],
      "metadata": {
        "id": "HWlZvClYKc7k"
      },
      "execution_count": null,
      "outputs": []
    },
    {
      "cell_type": "code",
      "source": [
        "obj3 = child_class()"
      ],
      "metadata": {
        "id": "60bWnHh9KxZ2"
      },
      "execution_count": null,
      "outputs": []
    },
    {
      "cell_type": "code",
      "source": [
        "obj3.return_parent_class_1()"
      ],
      "metadata": {
        "colab": {
          "base_uri": "https://localhost:8080/",
          "height": 36
        },
        "id": "ug7mwgYILCQB",
        "outputId": "e7ddef87-55ee-4a43-8ceb-57b305d9d4e5"
      },
      "execution_count": null,
      "outputs": [
        {
          "output_type": "execute_result",
          "data": {
            "text/plain": [
              "'This is parent class 1'"
            ],
            "application/vnd.google.colaboratory.intrinsic+json": {
              "type": "string"
            }
          },
          "metadata": {},
          "execution_count": 47
        }
      ]
    },
    {
      "cell_type": "code",
      "source": [
        "obj3.return_parent_class_2()"
      ],
      "metadata": {
        "colab": {
          "base_uri": "https://localhost:8080/",
          "height": 36
        },
        "id": "Ae7eO01JLGAP",
        "outputId": "de12b3ea-f698-4ed9-89e8-95b203ec8a7c"
      },
      "execution_count": null,
      "outputs": [
        {
          "output_type": "execute_result",
          "data": {
            "text/plain": [
              "'This is parent class 2'"
            ],
            "application/vnd.google.colaboratory.intrinsic+json": {
              "type": "string"
            }
          },
          "metadata": {},
          "execution_count": 48
        }
      ]
    },
    {
      "cell_type": "code",
      "source": [],
      "metadata": {
        "id": "kOxeW-IUNEup"
      },
      "execution_count": null,
      "outputs": []
    },
    {
      "cell_type": "markdown",
      "source": [
        "Q4. What are getter and setter in python? Create a class and create a getter and a setter method in this\n",
        "class."
      ],
      "metadata": {
        "id": "EJbDJ_IYNgIr"
      }
    },
    {
      "cell_type": "markdown",
      "source": [
        "#Getter\n",
        "\n",
        "\n",
        "Getters are methods that retrieve the value of an attribute. They are used to access private attributes from outside the class.\n",
        "\n",
        "#Setter\n",
        "\n",
        "Setters are methods that set or update the value of an attribute. They are used to control how attributes are modified and can include validation or other logic.\n",
        "\n"
      ],
      "metadata": {
        "id": "AI49Nr7YZhlF"
      }
    },
    {
      "cell_type": "code",
      "source": [
        "class Person:\n",
        "    def __init__(self, name, age):\n",
        "        self._name = name  # Private attribute\n",
        "        self._age = age    # Private attribute\n",
        "\n",
        "    # Getter method for name\n",
        "    @property\n",
        "    def name(self):\n",
        "        return self._name\n",
        "\n",
        "    # Setter method for name\n",
        "    @name.setter\n",
        "    def name(self, value):\n",
        "        if not isinstance(value, str):\n",
        "            raise ValueError(\"Name must be a string\")\n",
        "        self._name = value\n",
        "\n",
        "    # Getter method for age\n",
        "    @property\n",
        "    def age(self):\n",
        "        return self._age\n",
        "\n",
        "    # Setter method for age\n",
        "    @age.setter\n",
        "    def age(self, value):\n",
        "        if not isinstance(value, int):\n",
        "            raise ValueError(\"Age must be an integer\")\n",
        "        if value < 0:\n",
        "            raise ValueError(\"Age cannot be negative\")\n",
        "        self._age = value\n",
        "\n",
        "# Usage example\n",
        "person = Person(\"Alice\", 30)\n",
        "print(person.name)  # Output: Alice\n",
        "print(person.age)   # Output: 30\n",
        "\n",
        "person.name = \"Bob\"\n",
        "person.age = 35\n",
        "print(person.name)  # Output: Bob\n",
        "print(person.age)   # Output: 35\n",
        "\n",
        "# Uncommenting the following lines will raise an exception\n",
        "# person.name = 123    # Raises ValueError: Name must be a string\n",
        "# person.age = -5      # Raises ValueError: Age cannot be negative\n"
      ],
      "metadata": {
        "id": "kmE8pzFLNhBh",
        "colab": {
          "base_uri": "https://localhost:8080/"
        },
        "outputId": "2d1e38cd-c011-474d-d76e-0361865eafb2"
      },
      "execution_count": 1,
      "outputs": [
        {
          "output_type": "stream",
          "name": "stdout",
          "text": [
            "Alice\n",
            "30\n",
            "Bob\n",
            "35\n"
          ]
        }
      ]
    },
    {
      "cell_type": "code",
      "source": [],
      "metadata": {
        "id": "sEi17QUnajDZ"
      },
      "execution_count": null,
      "outputs": []
    },
    {
      "cell_type": "markdown",
      "source": [
        "Q5.What is method overriding in python? Write a python code to demonstrate method overriding."
      ],
      "metadata": {
        "id": "-eFV9pIya_ED"
      }
    },
    {
      "cell_type": "markdown",
      "source": [
        "When a method in a subclass has the same name, parameters, and return type as a method in its parent class, it is considered an override. The version of the method executed depends on the object used to invoke it."
      ],
      "metadata": {
        "id": "s-3YcH2Ba8vc"
      }
    },
    {
      "cell_type": "code",
      "source": [
        "class Parent:\n",
        "    def show(self):\n",
        "        print(\"Inside Parent\")\n",
        "\n",
        "class Child(Parent):\n",
        "    def show(self):\n",
        "        print(\"Inside Child\")\n",
        "\n",
        "obj1 = Parent()\n",
        "obj2 = Child()\n",
        "\n",
        "obj1.show()  # Output: Inside Parent\n",
        "obj2.show()  # Output: Inside Child\n"
      ],
      "metadata": {
        "colab": {
          "base_uri": "https://localhost:8080/"
        },
        "id": "2IwZR505a-q-",
        "outputId": "38141390-cf50-4eb5-a4f3-6f4bd7e992fe"
      },
      "execution_count": 2,
      "outputs": [
        {
          "output_type": "stream",
          "name": "stdout",
          "text": [
            "Inside Parent\n",
            "Inside Child\n"
          ]
        }
      ]
    },
    {
      "cell_type": "code",
      "source": [],
      "metadata": {
        "id": "g5jKHPysbI8-"
      },
      "execution_count": null,
      "outputs": []
    }
  ]
}